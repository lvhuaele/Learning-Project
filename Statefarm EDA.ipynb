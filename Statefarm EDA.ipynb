{
 "cells": [
  {
   "cell_type": "code",
   "execution_count": 1,
   "metadata": {},
   "outputs": [],
   "source": [
    "## import libraries for data preparation \n",
    "import numpy as np\n",
    "import pandas as pd\n",
    "from sklearn.preprocessing import StandardScaler\n",
    "from sklearn.decomposition import PCA\n",
    "import time\n",
    "import matplotlib.pyplot as plt"
   ]
  },
  {
   "cell_type": "code",
   "execution_count": 2,
   "metadata": {},
   "outputs": [],
   "source": [
    "files = ['./exercise_02_train.csv']\n",
    "df = pd.read_csv('./eercise_02_train.csv')"
   ]
  },
  {
   "cell_type": "code",
   "execution_count": 3,
   "metadata": {},
   "outputs": [
    {
     "name": "stdout",
     "output_type": "stream",
     "text": [
      "<class 'pandas.core.frame.DataFrame'>\n",
      "RangeIndex: 40000 entries, 0 to 39999\n",
      "Columns: 101 entries, x0 to y\n",
      "dtypes: float64(94), int64(1), object(6)\n",
      "memory usage: 30.8+ MB\n"
     ]
    }
   ],
   "source": [
    "## examine file info\n",
    "df.info()"
   ]
  },
  {
   "cell_type": "code",
   "execution_count": 4,
   "metadata": {},
   "outputs": [
    {
     "data": {
      "text/html": [
       "<div>\n",
       "<style scoped>\n",
       "    .dataframe tbody tr th:only-of-type {\n",
       "        vertical-align: middle;\n",
       "    }\n",
       "\n",
       "    .dataframe tbody tr th {\n",
       "        vertical-align: top;\n",
       "    }\n",
       "\n",
       "    .dataframe thead th {\n",
       "        text-align: right;\n",
       "    }\n",
       "</style>\n",
       "<table border=\"1\" class=\"dataframe\">\n",
       "  <thead>\n",
       "    <tr style=\"text-align: right;\">\n",
       "      <th></th>\n",
       "      <th>column_name</th>\n",
       "      <th>percent_missing</th>\n",
       "    </tr>\n",
       "  </thead>\n",
       "  <tbody>\n",
       "    <tr>\n",
       "      <th>x85</th>\n",
       "      <td>x85</td>\n",
       "      <td>0.0350</td>\n",
       "    </tr>\n",
       "    <tr>\n",
       "      <th>x18</th>\n",
       "      <td>x18</td>\n",
       "      <td>0.0350</td>\n",
       "    </tr>\n",
       "    <tr>\n",
       "      <th>x13</th>\n",
       "      <td>x13</td>\n",
       "      <td>0.0350</td>\n",
       "    </tr>\n",
       "    <tr>\n",
       "      <th>x63</th>\n",
       "      <td>x63</td>\n",
       "      <td>0.0350</td>\n",
       "    </tr>\n",
       "    <tr>\n",
       "      <th>x96</th>\n",
       "      <td>x96</td>\n",
       "      <td>0.0375</td>\n",
       "    </tr>\n",
       "  </tbody>\n",
       "</table>\n",
       "</div>"
      ],
      "text/plain": [
       "    column_name  percent_missing\n",
       "x85         x85           0.0350\n",
       "x18         x18           0.0350\n",
       "x13         x13           0.0350\n",
       "x63         x63           0.0350\n",
       "x96         x96           0.0375"
      ]
     },
     "execution_count": 4,
     "metadata": {},
     "output_type": "execute_result"
    }
   ],
   "source": [
    "## check missing values\n",
    "percent_missing = df.isnull().sum() * 100 / len(df)\n",
    "missing_value_df = pd.DataFrame({'column_name': df.columns, 'percent_missing': percent_missing})\n",
    "missing_value_df.sort_values('percent_missing', inplace=True)\n",
    "missing_value_df.tail()"
   ]
  },
  {
   "cell_type": "code",
   "execution_count": 5,
   "metadata": {},
   "outputs": [
    {
     "data": {
      "text/plain": [
       "<matplotlib.axes._subplots.AxesSubplot at 0x190a2aaa748>"
      ]
     },
     "execution_count": 5,
     "metadata": {},
     "output_type": "execute_result"
    },
    {
     "data": {
      "image/png": "[encoded data removed]",
      "text/plain": [
       "<Figure size 432x288 with 1 Axes>"
      ]
     },
     "metadata": {
      "needs_background": "light"
     },
     "output_type": "display_data"
    }
   ],
   "source": [
    "## visusalize data \n",
    "%matplotlib inline\n",
    "df.boxplot()\n",
    "\n",
    "## the result shows the data is imbalanced"
   ]
  },
  {
   "cell_type": "code",
   "execution_count": 6,
   "metadata": {},
   "outputs": [
    {
     "data": {
      "text/plain": [
       "0    31856\n",
       "1     8144\n",
       "Name: y, dtype: int64"
      ]
     },
     "execution_count": 6,
     "metadata": {},
     "output_type": "execute_result"
    }
   ],
   "source": [
    "## check the distribution of predicted variable, turns out we have imbalanced y as well, but no missing value\n",
    "\n",
    "df.y.value_counts()"
   ]
  },
  {
   "cell_type": "code",
   "execution_count": 7,
   "metadata": {},
   "outputs": [
    {
     "name": "stdout",
     "output_type": "stream",
     "text": [
      "<class 'pandas.core.frame.DataFrame'>\n",
      "RangeIndex: 40000 entries, 0 to 39999\n",
      "Data columns (total 6 columns):\n",
      "x34    39993 non-null object\n",
      "x35    39987 non-null object\n",
      "x41    39996 non-null object\n",
      "x45    39995 non-null object\n",
      "x68    39992 non-null object\n",
      "x93    39993 non-null object\n",
      "dtypes: object(6)\n",
      "memory usage: 1.8+ MB\n"
     ]
    }
   ],
   "source": [
    "## transform categorical features\n",
    "df_object = df.select_dtypes(include=['object'])\n",
    "df_object.info()"
   ]
  },
  {
   "cell_type": "code",
   "execution_count": 8,
   "metadata": {},
   "outputs": [
    {
     "data": {
      "text/html": [
       "<div>\n",
       "<style scoped>\n",
       "    .dataframe tbody tr th:only-of-type {\n",
       "        vertical-align: middle;\n",
       "    }\n",
       "\n",
       "    .dataframe tbody tr th {\n",
       "        vertical-align: top;\n",
       "    }\n",
       "\n",
       "    .dataframe thead th {\n",
       "        text-align: right;\n",
       "    }\n",
       "</style>\n",
       "<table border=\"1\" class=\"dataframe\">\n",
       "  <thead>\n",
       "    <tr style=\"text-align: right;\">\n",
       "      <th></th>\n",
       "      <th>x34</th>\n",
       "      <th>x35</th>\n",
       "      <th>x41</th>\n",
       "      <th>x45</th>\n",
       "      <th>x68</th>\n",
       "      <th>x93</th>\n",
       "    </tr>\n",
       "  </thead>\n",
       "  <tbody>\n",
       "    <tr>\n",
       "      <th>count</th>\n",
       "      <td>39993</td>\n",
       "      <td>39987</td>\n",
       "      <td>39996</td>\n",
       "      <td>39995</td>\n",
       "      <td>39992</td>\n",
       "      <td>39993</td>\n",
       "    </tr>\n",
       "    <tr>\n",
       "      <th>unique</th>\n",
       "      <td>10</td>\n",
       "      <td>8</td>\n",
       "      <td>37863</td>\n",
       "      <td>10</td>\n",
       "      <td>12</td>\n",
       "      <td>3</td>\n",
       "    </tr>\n",
       "    <tr>\n",
       "      <th>top</th>\n",
       "      <td>volkswagon</td>\n",
       "      <td>wed</td>\n",
       "      <td>$-1073.04</td>\n",
       "      <td>-0.01%</td>\n",
       "      <td>July</td>\n",
       "      <td>asia</td>\n",
       "    </tr>\n",
       "    <tr>\n",
       "      <th>freq</th>\n",
       "      <td>12455</td>\n",
       "      <td>14793</td>\n",
       "      <td>4</td>\n",
       "      <td>9578</td>\n",
       "      <td>11080</td>\n",
       "      <td>35416</td>\n",
       "    </tr>\n",
       "  </tbody>\n",
       "</table>\n",
       "</div>"
      ],
      "text/plain": [
       "               x34    x35        x41     x45    x68    x93\n",
       "count        39993  39987      39996   39995  39992  39993\n",
       "unique          10      8      37863      10     12      3\n",
       "top     volkswagon    wed  $-1073.04  -0.01%   July   asia\n",
       "freq         12455  14793          4    9578  11080  35416"
      ]
     },
     "execution_count": 8,
     "metadata": {},
     "output_type": "execute_result"
    }
   ],
   "source": [
    "df_object.describe()"
   ]
  },
  {
   "cell_type": "code",
   "execution_count": 9,
   "metadata": {},
   "outputs": [
    {
     "data": {
      "text/plain": [
       "wed          14793\n",
       "thurday      13375\n",
       "wednesday     5920\n",
       "thur          4383\n",
       "tuesday        894\n",
       "friday         537\n",
       "monday          61\n",
       "fri             24\n",
       "Name: x35, dtype: int64"
      ]
     },
     "execution_count": 9,
     "metadata": {},
     "output_type": "execute_result"
    }
   ],
   "source": [
    "df.x35.value_counts()"
   ]
  },
  {
   "cell_type": "code",
   "execution_count": 10,
   "metadata": {},
   "outputs": [],
   "source": [
    "def weekday(X):\n",
    "    if X == 'wed':\n",
    "        return 'wednesday'\n",
    "    elif X == 'thur':\n",
    "        return 'thursday'\n",
    "    elif X == 'thurday':\n",
    "        return 'thursday'\n",
    "    elif X == 'fri':\n",
    "        return 'friday'\n",
    "    else:\n",
    "        return X"
   ]
  },
  {
   "cell_type": "code",
   "execution_count": 11,
   "metadata": {},
   "outputs": [],
   "source": [
    "df.x35 = df.x35.apply(weekday)\n",
    "df.x41 = df_object.x41.map(lambda x: x if type(x) == float else float(x.strip('$')))\n",
    "df.x45 = df_object.x45.map(lambda x: x if type(x) == float else float(x.strip('%')))"
   ]
  },
  {
   "cell_type": "code",
   "execution_count": 12,
   "metadata": {},
   "outputs": [],
   "source": [
    "## split training and test dataset\n",
    "\n",
    "y = df.y\n",
    "X = df.drop(columns = ['y'])\n",
    "from sklearn.model_selection import train_test_split\n",
    "X_train, X_test, y_train, y_test = train_test_split(X, \n",
    "                                                    y, \n",
    "                                                    test_size=0.2, \n",
    "                                                    random_state= 50)"
   ]
  },
  {
   "cell_type": "code",
   "execution_count": 13,
   "metadata": {},
   "outputs": [
    {
     "name": "stderr",
     "output_type": "stream",
     "text": [
      "C:\\Users\\lv_hua\\AppData\\Local\\Continuum\\anaconda3\\lib\\site-packages\\pandas\\core\\generic.py:6130: SettingWithCopyWarning: \n",
      "A value is trying to be set on a copy of a slice from a DataFrame\n",
      "\n",
      "See the caveats in the documentation: http://pandas.pydata.org/pandas-docs/stable/indexing.html#indexing-view-versus-copy\n",
      "  self._update_inplace(new_data)\n"
     ]
    }
   ],
   "source": [
    "## fill missing values with mode for categorical variables\n",
    "for column in ['x34', 'x35', 'x68', 'x93']:\n",
    "    X_train[column].fillna(X_train[column].mode()[0], inplace=True)\n",
    "    X_test[column].fillna(X_train[column].mode()[0], inplace=True)"
   ]
  },
  {
   "cell_type": "code",
   "execution_count": 14,
   "metadata": {},
   "outputs": [
    {
     "name": "stderr",
     "output_type": "stream",
     "text": [
      "C:\\Users\\lv_hua\\AppData\\Local\\Continuum\\anaconda3\\lib\\site-packages\\ipykernel_launcher.py:4: SettingWithCopyWarning: \n",
      "A value is trying to be set on a copy of a slice from a DataFrame.\n",
      "Try using .loc[row_indexer,col_indexer] = value instead\n",
      "\n",
      "See the caveats in the documentation: http://pandas.pydata.org/pandas-docs/stable/indexing.html#indexing-view-versus-copy\n",
      "  after removing the cwd from sys.path.\n",
      "C:\\Users\\lv_hua\\AppData\\Local\\Continuum\\anaconda3\\lib\\site-packages\\ipykernel_launcher.py:7: SettingWithCopyWarning: \n",
      "A value is trying to be set on a copy of a slice from a DataFrame.\n",
      "Try using .loc[row_indexer,col_indexer] = value instead\n",
      "\n",
      "See the caveats in the documentation: http://pandas.pydata.org/pandas-docs/stable/indexing.html#indexing-view-versus-copy\n",
      "  import sys\n"
     ]
    }
   ],
   "source": [
    "## fill missing values for all numerical variables\n",
    "\n",
    "for col in X_train.select_dtypes(include=np.number):\n",
    "    X_train[col] = X_train[col].fillna(X_train[col].mean())\n",
    "\n",
    "for col in X_test.select_dtypes(include=np.number):\n",
    "    X_test[col] = X_test[col].fillna(X_train[col].mean())"
   ]
  },
  {
   "cell_type": "code",
   "execution_count": 15,
   "metadata": {},
   "outputs": [],
   "source": [
    "## Label encoding on categorical features using one hot encoding. Sparsity is better for later feature engineering\n",
    "\n",
    "X_train= pd.get_dummies(X_train, columns=['x34', 'x35', 'x68', 'x93'])\n",
    "X_test = pd.get_dummies(X_test, columns=['x34', 'x35', 'x68', 'x93'])"
   ]
  },
  {
   "cell_type": "code",
   "execution_count": 16,
   "metadata": {},
   "outputs": [],
   "source": [
    "## Normalize data for following analysis\n",
    "\n",
    "X_train_scaled = StandardScaler().fit_transform(X_train)\n",
    "X_test_scaled = StandardScaler().fit_transform(X_test)"
   ]
  },
  {
   "cell_type": "code",
   "execution_count": 17,
   "metadata": {},
   "outputs": [
    {
     "data": {
      "image/png": "[encoded data removed]",
      "text/plain": [
       "<Figure size 432x288 with 1 Axes>"
      ]
     },
     "metadata": {
      "needs_background": "light"
     },
     "output_type": "display_data"
    }
   ],
   "source": [
    "## Dimensionality reduction using PCA\n",
    "X_train_pca = PCA().fit_transform (X_train_scaled)\n",
    "\n",
    "## visualizae PCA to examine principal components\n",
    "%matplotlib inline\n",
    "pca = PCA().fit(X_train_scaled)\n",
    "\n",
    "plt.figure()\n",
    "var_exp=pca.explained_variance_ratio_ \n",
    "cum_var_exp=np.cumsum(var_exp)\n",
    "plt.plot(cum_var_exp)\n",
    "plt.xlabel('number of components')\n",
    "plt.ylabel('cumulative explained variance')\n",
    "plt.show()\n"
   ]
  },
  {
   "cell_type": "code",
   "execution_count": 18,
   "metadata": {},
   "outputs": [
    {
     "name": "stderr",
     "output_type": "stream",
     "text": [
      "C:\\Users\\lv_hua\\AppData\\Local\\Continuum\\anaconda3\\lib\\site-packages\\sklearn\\ensemble\\forest.py:245: FutureWarning: The default value of n_estimators will change from 10 in version 0.20 to 100 in 0.22.\n",
      "  \"10 in version 0.20 to 100 in 0.22.\", FutureWarning)\n"
     ]
    },
    {
     "data": {
      "text/plain": [
       "RandomForestClassifier(bootstrap=True, class_weight='balanced',\n",
       "                       criterion='gini', max_depth=None, max_features='auto',\n",
       "                       max_leaf_nodes=None, min_impurity_decrease=0.0,\n",
       "                       min_impurity_split=None, min_samples_leaf=1,\n",
       "                       min_samples_split=2, min_weight_fraction_leaf=0.0,\n",
       "                       n_estimators=10, n_jobs=None, oob_score=False,\n",
       "                       random_state=None, verbose=0, warm_start=False)"
      ]
     },
     "execution_count": 18,
     "metadata": {},
     "output_type": "execute_result"
    }
   ],
   "source": [
    "## Since PCA does not significantly reduce dimensionality, random forest is tested for possible feature selection \n",
    "\n",
    "## random forest classifier does not necessarily require normalize data but I used normalized data for more accuracy\n",
    "\n",
    "## since we have imbalanced data, we want to use the parameter to deal with the problem\n",
    "\n",
    "from sklearn.ensemble import RandomForestClassifier\n",
    "model = RandomForestClassifier(class_weight = \"balanced\")\n",
    "model.fit(X_train_scaled, y_train)"
   ]
  },
  {
   "cell_type": "code",
   "execution_count": 19,
   "metadata": {},
   "outputs": [
    {
     "name": "stdout",
     "output_type": "stream",
     "text": [
      "[(0.0418, 'x75'), (0.0376, 'x37'), (0.0354, 'x97'), (0.029, 'x58'), (0.0255, 'x41'), (0.0196, 'x99'), (0.0188, 'x51'), (0.0179, 'x1'), (0.0178, 'x44'), (0.0166, 'x96'), (0.0166, 'x21'), (0.0165, 'x56'), (0.0164, 'x72'), (0.0157, 'x66'), (0.0157, 'x63'), (0.0157, 'x10'), (0.0153, 'x50'), (0.0152, 'x5'), (0.0149, 'x70'), (0.0144, 'x40'), (0.0144, 'x22'), (0.0143, 'x53'), (0.0135, 'x83'), (0.0134, 'x78'), (0.0133, 'x69'), (0.0126, 'x79'), (0.0124, 'x85'), (0.0123, 'x57'), (0.0123, 'x33'), (0.012, 'x4'), (0.012, 'x3'), (0.0119, 'x43'), (0.0118, 'x73'), (0.0114, 'x27'), (0.0111, 'x74'), (0.011, 'x95'), (0.0109, 'x0'), (0.0108, 'x2'), (0.0108, 'x19'), (0.0105, 'x8'), (0.0105, 'x20'), (0.0102, 'x25'), (0.01, 'x12'), (0.0098, 'x49'), (0.0096, 'x77'), (0.0095, 'x47'), (0.0093, 'x42'), (0.0091, 'x71'), (0.0086, 'x90'), (0.0085, 'x61'), (0.0076, 'x18'), (0.0072, 'x80'), (0.006, 'x11'), (0.0058, 'x46'), (0.0058, 'x13'), (0.0056, 'x81'), (0.0055, 'x29'), (0.0054, 'x45'), (0.0053, 'x9'), (0.0053, 'x84'), (0.0053, 'x60'), (0.0053, 'x54'), (0.0052, 'x65'), (0.0052, 'x62'), (0.0051, 'x59'), (0.0051, 'x23'), (0.005, 'x87'), (0.005, 'x52'), (0.0049, 'x98'), (0.0049, 'x94'), (0.0049, 'x91'), (0.0049, 'x76'), (0.0049, 'x7'), (0.0049, 'x55'), (0.0049, 'x30'), (0.0049, 'x24'), (0.0048, 'x39'), (0.0048, 'x38'), (0.0047, 'x89'), (0.0047, 'x88'), (0.0047, 'x82'), (0.0047, 'x48'), (0.0047, 'x15'), (0.0046, 'x92'), (0.0046, 'x86'), (0.0046, 'x64'), (0.0046, 'x32'), (0.0045, 'x67'), (0.0045, 'x14'), (0.0044, 'x6'), (0.0044, 'x17'), (0.0044, 'x16'), (0.0043, 'x36'), (0.0043, 'x35_thursday'), (0.0043, 'x31'), (0.0041, 'x28'), (0.004, 'x26'), (0.003, 'x35_wednesday'), (0.0009, 'x68_May'), (0.0008, 'x68_Jun'), (0.0007, 'x68_Aug'), (0.0006, 'x35_tuesday'), (0.0005, 'x93_america'), (0.0005, 'x68_Oct'), (0.0005, 'x34_Honda'), (0.0004, 'x68_sept.'), (0.0004, 'x34_tesla'), (0.0003, 'x93_euorpe'), (0.0003, 'x93_asia'), (0.0003, 'x34_volkswagon'), (0.0003, 'x34_chrystler'), (0.0003, 'x34_bmw'), (0.0003, 'x34_Toyota'), (0.0002, 'x68_Mar'), (0.0002, 'x68_July'), (0.0002, 'x68_Apr'), (0.0001, 'x68_Nov'), (0.0001, 'x35_friday'), (0.0001, 'x34_nissan'), (0.0, 'x68_January'), (0.0, 'x68_Feb'), (0.0, 'x68_Dev'), (0.0, 'x35_monday'), (0.0, 'x34_mercades'), (0.0, 'x34_ford'), (0.0, 'x34_chevrolet')]\n"
     ]
    }
   ],
   "source": [
    "feature_names = list(X_train.columns)\n",
    "features = sorted(zip(map(lambda x: round(x, 4), model.feature_importances_), feature_names), \n",
    "             reverse=True)\n",
    "print(features)"
   ]
  },
  {
   "cell_type": "code",
   "execution_count": 20,
   "metadata": {},
   "outputs": [
    {
     "data": {
      "image/png": "[encoded data removed]",
      "text/plain": [
       "<Figure size 432x288 with 1 Axes>"
      ]
     },
     "metadata": {
      "needs_background": "light"
     },
     "output_type": "display_data"
    }
   ],
   "source": [
    "## visualize feature importance\n",
    "\n",
    "%matplotlib inline\n",
    "# Creating a line plot\n",
    "\n",
    "plt.figure()\n",
    "cum_fimps=np.cumsum(model.feature_importances_)\n",
    "plt.plot(cum_fimps)\n",
    "plt.xlabel('Number of Features')\n",
    "plt.ylabel('Cumulative Feature Importance Score')\n",
    "plt.show()"
   ]
  },
  {
   "cell_type": "code",
   "execution_count": 21,
   "metadata": {},
   "outputs": [],
   "source": [
    "## at this point, with no additional background information about the data or specific business questions\n",
    "## feature enginerring does not provide any insights into the model building or problem solving\n",
    "## I decided to do a quick classification ##model comparison to see which one perform the best with the prediction \n",
    "\n",
    "from sklearn.linear_model import LogisticRegression\n",
    "from sklearn.svm import SVC\n",
    "from sklearn.neighbors import KNeighborsClassifier\n",
    "from sklearn import tree\n",
    "from sklearn.neural_network import MLPClassifier\n",
    "from sklearn.neighbors import KNeighborsClassifier\n",
    "from sklearn.ensemble import GradientBoostingClassifier\n",
    "from sklearn.gaussian_process.kernels import RBF\n",
    "from sklearn.ensemble import RandomForestClassifier\n",
    "from sklearn.naive_bayes import GaussianNB\n",
    "from xgboost import XGBClassifier"
   ]
  },
  {
   "cell_type": "code",
   "execution_count": 22,
   "metadata": {},
   "outputs": [],
   "source": [
    "## create a dictionary to store all the models\n",
    "\n",
    "dict_classifiers = {\n",
    "    \"Logistic Regression\": LogisticRegression(),\n",
    "    \"Nearest Neighbors\": KNeighborsClassifier(),\n",
    "    \"Linear SVM\": SVC(),\n",
    "    \"Gradient Boosting Classifier\": GradientBoostingClassifier(n_estimators=1000),\n",
    "    \"Decision Tree\": tree.DecisionTreeClassifier(),\n",
    "    \"Random Forest\": RandomForestClassifier(n_estimators=1000),\n",
    "    \"Neural Net\": MLPClassifier(alpha = 1),\n",
    "    \"Naive Bayes\": GaussianNB(),\n",
    "    \"XGBoost Classifier\": XGBClassifier()\n",
    "}\n"
   ]
  },
  {
   "cell_type": "code",
   "execution_count": 23,
   "metadata": {},
   "outputs": [],
   "source": [
    "## import metrics to evaluate models\n",
    "\n",
    "from sklearn.metrics import accuracy_score, precision_score, recall_score, roc_auc_score"
   ]
  },
  {
   "cell_type": "code",
   "execution_count": 24,
   "metadata": {},
   "outputs": [],
   "source": [
    "## create a function to test and compare different classification models based on accurarcy, ROC, precision, \n",
    "## recall and training time\n",
    "\n",
    "def batch_classify(X_train, y_train, X_test, y_test, no_classifiers = 9, verbose = True):\n",
    "     \n",
    "    dict_models = {}\n",
    "    for classifier_name, classifier in list(dict_classifiers.items())[:no_classifiers]:\n",
    "        t_start = time.clock()\n",
    "        classifier.fit(X_train_scaled, y_train)\n",
    "        t_end = time.clock()\n",
    "        \n",
    "        t_diff = t_end - t_start\n",
    "        y_train_pred = classifier.predict(X_train_scaled) \n",
    "        y_test_pred = classifier.predict(X_test_scaled)\n",
    "        \n",
    "        train_accuracy = accuracy_score(y_train, y_train_pred)\n",
    "        test_accuracy = accuracy_score(y_test, y_test_pred)\n",
    "        train_precision = precision_score(y_train, y_train_pred)\n",
    "        test_precision = precision_score(y_test, y_test_pred)\n",
    "        train_recall = recall_score(y_train, y_train_pred)\n",
    "        test_recall = recall_score(y_test, y_test_pred)\n",
    "        train_roc = roc_auc_score(y_train, y_train_pred)\n",
    "        test_roc = roc_auc_score(y_test, y_test_pred)\n",
    "        \n",
    "        dict_models[classifier_name] = {'model': classifier, 'train_accuracy': train_accuracy, 'test_accuracy': test_accuracy, \n",
    "                                        'train_precision': train_precision, 'test_precision': test_precision, \n",
    "                                        'train_recall': train_recall, 'test_recall': test_recall, 'train_roc': train_roc, \n",
    "                                        'test_roc': test_roc, 'train_time': t_diff}\n",
    "        if verbose:\n",
    "            print(\"trained {c} in {f:.2f} s\".format(c=classifier_name, f=t_diff))\n",
    "    return dict_models\n",
    " \n",
    " \n",
    " \n",
    "def display_dict_models(dict_models, sort_by='test_accuracy'):\n",
    "    cls = [key for key in dict_models.keys()]\n",
    "    test_a = [dict_models[key]['test_accuracy'] for key in cls]\n",
    "    training_a = [dict_models[key]['train_accuracy'] for key in cls]\n",
    "    test_p = [dict_models[key]['test_precision'] for key in cls]\n",
    "    training_p = [dict_models[key]['train_precision'] for key in cls]\n",
    "    test_r = [dict_models[key]['test_recall'] for key in cls]\n",
    "    training_r = [dict_models[key]['train_recall'] for key in cls]\n",
    "    test_roc = [dict_models[key]['test_roc'] for key in cls]\n",
    "    training_roc = [dict_models[key]['train_roc'] for key in cls]\n",
    "    training_t = [dict_models[key]['train_time'] for key in cls]\n",
    "    \n",
    "    \n",
    "    df_ = pd.DataFrame(data=np.zeros(shape=(len(cls),10)), columns = ['classifier', 'train_accuracy', 'test_accuracy',\n",
    "                                                                      'train_precision', 'test_precision', 'train_recall',\n",
    "                                                                      'test_recall', 'train_roc', 'test_roc', 'train_time'])\n",
    "    for ii in range(0,len(cls)):\n",
    "        df_.loc[ii, 'classifier'] = cls[ii]\n",
    "        df_.loc[ii, 'train_accuracy'] = training_a[ii]\n",
    "        df_.loc[ii, 'test_accuracy'] = test_a[ii]\n",
    "        df_.loc[ii, 'test_precision'] = test_p[ii]\n",
    "        df_.loc[ii, 'train_precision'] = training_p[ii]\n",
    "        df_.loc[ii, 'test_recall'] = test_r[ii]\n",
    "        df_.loc[ii, 'train_recall'] = training_r[ii] \n",
    "        df_.loc[ii, 'test_roc'] = test_roc[ii]\n",
    "        df_.loc[ii, 'train_roc'] = training_roc[ii]\n",
    "        df_.loc[ii, 'train_time'] = training_t[ii]\n",
    "    \n",
    "    display(df_.sort_values(by=sort_by, ascending=False))"
   ]
  },
  {
   "cell_type": "code",
   "execution_count": 25,
   "metadata": {},
   "outputs": [
    {
     "name": "stderr",
     "output_type": "stream",
     "text": [
      "C:\\Users\\lv_hua\\AppData\\Local\\Continuum\\anaconda3\\lib\\site-packages\\ipykernel_launcher.py:8: DeprecationWarning: time.clock has been deprecated in Python 3.3 and will be removed from Python 3.8: use time.perf_counter or time.process_time instead\n",
      "  \n",
      "C:\\Users\\lv_hua\\AppData\\Local\\Continuum\\anaconda3\\lib\\site-packages\\sklearn\\linear_model\\logistic.py:432: FutureWarning: Default solver will be changed to 'lbfgs' in 0.22. Specify a solver to silence this warning.\n",
      "  FutureWarning)\n",
      "C:\\Users\\lv_hua\\AppData\\Local\\Continuum\\anaconda3\\lib\\site-packages\\ipykernel_launcher.py:10: DeprecationWarning: time.clock has been deprecated in Python 3.3 and will be removed from Python 3.8: use time.perf_counter or time.process_time instead\n",
      "  # Remove the CWD from sys.path while we load stuff.\n",
      "C:\\Users\\lv_hua\\AppData\\Local\\Continuum\\anaconda3\\lib\\site-packages\\ipykernel_launcher.py:8: DeprecationWarning: time.clock has been deprecated in Python 3.3 and will be removed from Python 3.8: use time.perf_counter or time.process_time instead\n",
      "  \n"
     ]
    },
    {
     "name": "stdout",
     "output_type": "stream",
     "text": [
      "trained Logistic Regression in 1.14 s\n"
     ]
    },
    {
     "name": "stderr",
     "output_type": "stream",
     "text": [
      "C:\\Users\\lv_hua\\AppData\\Local\\Continuum\\anaconda3\\lib\\site-packages\\ipykernel_launcher.py:10: DeprecationWarning: time.clock has been deprecated in Python 3.3 and will be removed from Python 3.8: use time.perf_counter or time.process_time instead\n",
      "  # Remove the CWD from sys.path while we load stuff.\n"
     ]
    },
    {
     "name": "stdout",
     "output_type": "stream",
     "text": [
      "trained Nearest Neighbors in 1.78 s\n"
     ]
    },
    {
     "name": "stderr",
     "output_type": "stream",
     "text": [
      "C:\\Users\\lv_hua\\AppData\\Local\\Continuum\\anaconda3\\lib\\site-packages\\ipykernel_launcher.py:8: DeprecationWarning: time.clock has been deprecated in Python 3.3 and will be removed from Python 3.8: use time.perf_counter or time.process_time instead\n",
      "  \n",
      "C:\\Users\\lv_hua\\AppData\\Local\\Continuum\\anaconda3\\lib\\site-packages\\ipykernel_launcher.py:10: DeprecationWarning: time.clock has been deprecated in Python 3.3 and will be removed from Python 3.8: use time.perf_counter or time.process_time instead\n",
      "  # Remove the CWD from sys.path while we load stuff.\n"
     ]
    },
    {
     "name": "stdout",
     "output_type": "stream",
     "text": [
      "trained Linear SVM in 128.39 s\n"
     ]
    },
    {
     "name": "stderr",
     "output_type": "stream",
     "text": [
      "C:\\Users\\lv_hua\\AppData\\Local\\Continuum\\anaconda3\\lib\\site-packages\\ipykernel_launcher.py:8: DeprecationWarning: time.clock has been deprecated in Python 3.3 and will be removed from Python 3.8: use time.perf_counter or time.process_time instead\n",
      "  \n",
      "C:\\Users\\lv_hua\\AppData\\Local\\Continuum\\anaconda3\\lib\\site-packages\\ipykernel_launcher.py:10: DeprecationWarning: time.clock has been deprecated in Python 3.3 and will be removed from Python 3.8: use time.perf_counter or time.process_time instead\n",
      "  # Remove the CWD from sys.path while we load stuff.\n"
     ]
    },
    {
     "name": "stdout",
     "output_type": "stream",
     "text": [
      "trained Gradient Boosting Classifier in 210.34 s\n"
     ]
    },
    {
     "name": "stderr",
     "output_type": "stream",
     "text": [
      "C:\\Users\\lv_hua\\AppData\\Local\\Continuum\\anaconda3\\lib\\site-packages\\ipykernel_launcher.py:8: DeprecationWarning: time.clock has been deprecated in Python 3.3 and will be removed from Python 3.8: use time.perf_counter or time.process_time instead\n",
      "  \n",
      "C:\\Users\\lv_hua\\AppData\\Local\\Continuum\\anaconda3\\lib\\site-packages\\ipykernel_launcher.py:10: DeprecationWarning: time.clock has been deprecated in Python 3.3 and will be removed from Python 3.8: use time.perf_counter or time.process_time instead\n",
      "  # Remove the CWD from sys.path while we load stuff.\n",
      "C:\\Users\\lv_hua\\AppData\\Local\\Continuum\\anaconda3\\lib\\site-packages\\ipykernel_launcher.py:8: DeprecationWarning: time.clock has been deprecated in Python 3.3 and will be removed from Python 3.8: use time.perf_counter or time.process_time instead\n",
      "  \n"
     ]
    },
    {
     "name": "stdout",
     "output_type": "stream",
     "text": [
      "trained Decision Tree in 4.69 s\n"
     ]
    },
    {
     "name": "stderr",
     "output_type": "stream",
     "text": [
      "C:\\Users\\lv_hua\\AppData\\Local\\Continuum\\anaconda3\\lib\\site-packages\\ipykernel_launcher.py:10: DeprecationWarning: time.clock has been deprecated in Python 3.3 and will be removed from Python 3.8: use time.perf_counter or time.process_time instead\n",
      "  # Remove the CWD from sys.path while we load stuff.\n"
     ]
    },
    {
     "name": "stdout",
     "output_type": "stream",
     "text": [
      "trained Random Forest in 219.31 s\n"
     ]
    },
    {
     "name": "stderr",
     "output_type": "stream",
     "text": [
      "C:\\Users\\lv_hua\\AppData\\Local\\Continuum\\anaconda3\\lib\\site-packages\\ipykernel_launcher.py:8: DeprecationWarning: time.clock has been deprecated in Python 3.3 and will be removed from Python 3.8: use time.perf_counter or time.process_time instead\n",
      "  \n",
      "C:\\Users\\lv_hua\\AppData\\Local\\Continuum\\anaconda3\\lib\\site-packages\\ipykernel_launcher.py:10: DeprecationWarning: time.clock has been deprecated in Python 3.3 and will be removed from Python 3.8: use time.perf_counter or time.process_time instead\n",
      "  # Remove the CWD from sys.path while we load stuff.\n",
      "C:\\Users\\lv_hua\\AppData\\Local\\Continuum\\anaconda3\\lib\\site-packages\\ipykernel_launcher.py:8: DeprecationWarning: time.clock has been deprecated in Python 3.3 and will be removed from Python 3.8: use time.perf_counter or time.process_time instead\n",
      "  \n",
      "C:\\Users\\lv_hua\\AppData\\Local\\Continuum\\anaconda3\\lib\\site-packages\\ipykernel_launcher.py:10: DeprecationWarning: time.clock has been deprecated in Python 3.3 and will be removed from Python 3.8: use time.perf_counter or time.process_time instead\n",
      "  # Remove the CWD from sys.path while we load stuff.\n"
     ]
    },
    {
     "name": "stdout",
     "output_type": "stream",
     "text": [
      "trained Neural Net in 7.60 s\n",
      "trained Naive Bayes in 0.08 s\n"
     ]
    },
    {
     "name": "stderr",
     "output_type": "stream",
     "text": [
      "C:\\Users\\lv_hua\\AppData\\Local\\Continuum\\anaconda3\\lib\\site-packages\\ipykernel_launcher.py:8: DeprecationWarning: time.clock has been deprecated in Python 3.3 and will be removed from Python 3.8: use time.perf_counter or time.process_time instead\n",
      "  \n",
      "C:\\Users\\lv_hua\\AppData\\Local\\Continuum\\anaconda3\\lib\\site-packages\\ipykernel_launcher.py:10: DeprecationWarning: time.clock has been deprecated in Python 3.3 and will be removed from Python 3.8: use time.perf_counter or time.process_time instead\n",
      "  # Remove the CWD from sys.path while we load stuff.\n"
     ]
    },
    {
     "name": "stdout",
     "output_type": "stream",
     "text": [
      "trained XGBoost Classifier in 21.40 s\n"
     ]
    },
    {
     "data": {
      "text/html": [
       "<div>\n",
       "<style scoped>\n",
       "    .dataframe tbody tr th:only-of-type {\n",
       "        vertical-align: middle;\n",
       "    }\n",
       "\n",
       "    .dataframe tbody tr th {\n",
       "        vertical-align: top;\n",
       "    }\n",
       "\n",
       "    .dataframe thead th {\n",
       "        text-align: right;\n",
       "    }\n",
       "</style>\n",
       "<table border=\"1\" class=\"dataframe\">\n",
       "  <thead>\n",
       "    <tr style=\"text-align: right;\">\n",
       "      <th></th>\n",
       "      <th>classifier</th>\n",
       "      <th>train_accuracy</th>\n",
       "      <th>test_accuracy</th>\n",
       "      <th>train_precision</th>\n",
       "      <th>test_precision</th>\n",
       "      <th>train_recall</th>\n",
       "      <th>test_recall</th>\n",
       "      <th>train_roc</th>\n",
       "      <th>test_roc</th>\n",
       "      <th>train_time</th>\n",
       "    </tr>\n",
       "  </thead>\n",
       "  <tbody>\n",
       "    <tr>\n",
       "      <th>2</th>\n",
       "      <td>Linear SVM</td>\n",
       "      <td>0.993594</td>\n",
       "      <td>0.985375</td>\n",
       "      <td>0.995288</td>\n",
       "      <td>0.989657</td>\n",
       "      <td>0.973127</td>\n",
       "      <td>0.938113</td>\n",
       "      <td>0.985975</td>\n",
       "      <td>0.967800</td>\n",
       "      <td>128.394758</td>\n",
       "    </tr>\n",
       "    <tr>\n",
       "      <th>6</th>\n",
       "      <td>Neural Net</td>\n",
       "      <td>0.990219</td>\n",
       "      <td>0.984500</td>\n",
       "      <td>0.992062</td>\n",
       "      <td>0.983954</td>\n",
       "      <td>0.959613</td>\n",
       "      <td>0.939338</td>\n",
       "      <td>0.978826</td>\n",
       "      <td>0.967706</td>\n",
       "      <td>7.603836</td>\n",
       "    </tr>\n",
       "    <tr>\n",
       "      <th>3</th>\n",
       "      <td>Gradient Boosting Classifier</td>\n",
       "      <td>0.989750</td>\n",
       "      <td>0.953875</td>\n",
       "      <td>0.991418</td>\n",
       "      <td>0.938237</td>\n",
       "      <td>0.957924</td>\n",
       "      <td>0.828431</td>\n",
       "      <td>0.977903</td>\n",
       "      <td>0.907228</td>\n",
       "      <td>210.339529</td>\n",
       "    </tr>\n",
       "    <tr>\n",
       "      <th>8</th>\n",
       "      <td>XGBoost Classifier</td>\n",
       "      <td>0.915250</td>\n",
       "      <td>0.907125</td>\n",
       "      <td>0.953461</td>\n",
       "      <td>0.940535</td>\n",
       "      <td>0.613483</td>\n",
       "      <td>0.581495</td>\n",
       "      <td>0.802916</td>\n",
       "      <td>0.786036</td>\n",
       "      <td>21.399049</td>\n",
       "    </tr>\n",
       "    <tr>\n",
       "      <th>1</th>\n",
       "      <td>Nearest Neighbors</td>\n",
       "      <td>0.942094</td>\n",
       "      <td>0.906875</td>\n",
       "      <td>0.982998</td>\n",
       "      <td>0.943944</td>\n",
       "      <td>0.728041</td>\n",
       "      <td>0.577819</td>\n",
       "      <td>0.862412</td>\n",
       "      <td>0.784512</td>\n",
       "      <td>1.776531</td>\n",
       "    </tr>\n",
       "    <tr>\n",
       "      <th>0</th>\n",
       "      <td>Logistic Regression</td>\n",
       "      <td>0.891375</td>\n",
       "      <td>0.893000</td>\n",
       "      <td>0.802752</td>\n",
       "      <td>0.810897</td>\n",
       "      <td>0.618090</td>\n",
       "      <td>0.620098</td>\n",
       "      <td>0.789644</td>\n",
       "      <td>0.791519</td>\n",
       "      <td>1.137220</td>\n",
       "    </tr>\n",
       "    <tr>\n",
       "      <th>5</th>\n",
       "      <td>Random Forest</td>\n",
       "      <td>1.000000</td>\n",
       "      <td>0.877875</td>\n",
       "      <td>1.000000</td>\n",
       "      <td>0.995461</td>\n",
       "      <td>1.000000</td>\n",
       "      <td>0.403186</td>\n",
       "      <td>1.000000</td>\n",
       "      <td>0.701358</td>\n",
       "      <td>219.308367</td>\n",
       "    </tr>\n",
       "    <tr>\n",
       "      <th>4</th>\n",
       "      <td>Decision Tree</td>\n",
       "      <td>1.000000</td>\n",
       "      <td>0.824500</td>\n",
       "      <td>1.000000</td>\n",
       "      <td>0.566745</td>\n",
       "      <td>1.000000</td>\n",
       "      <td>0.593137</td>\n",
       "      <td>1.000000</td>\n",
       "      <td>0.738466</td>\n",
       "      <td>4.686482</td>\n",
       "    </tr>\n",
       "    <tr>\n",
       "      <th>7</th>\n",
       "      <td>Naive Bayes</td>\n",
       "      <td>0.793375</td>\n",
       "      <td>0.787625</td>\n",
       "      <td>0.483005</td>\n",
       "      <td>0.455746</td>\n",
       "      <td>0.218213</td>\n",
       "      <td>0.211397</td>\n",
       "      <td>0.579269</td>\n",
       "      <td>0.573349</td>\n",
       "      <td>0.080993</td>\n",
       "    </tr>\n",
       "  </tbody>\n",
       "</table>\n",
       "</div>"
      ],
      "text/plain": [
       "                     classifier  train_accuracy  test_accuracy  \\\n",
       "2                    Linear SVM        0.993594       0.985375   \n",
       "6                    Neural Net        0.990219       0.984500   \n",
       "3  Gradient Boosting Classifier        0.989750       0.953875   \n",
       "8            XGBoost Classifier        0.915250       0.907125   \n",
       "1             Nearest Neighbors        0.942094       0.906875   \n",
       "0           Logistic Regression        0.891375       0.893000   \n",
       "5                 Random Forest        1.000000       0.877875   \n",
       "4                 Decision Tree        1.000000       0.824500   \n",
       "7                   Naive Bayes        0.793375       0.787625   \n",
       "\n",
       "   train_precision  test_precision  train_recall  test_recall  train_roc  \\\n",
       "2         0.995288        0.989657      0.973127     0.938113   0.985975   \n",
       "6         0.992062        0.983954      0.959613     0.939338   0.978826   \n",
       "3         0.991418        0.938237      0.957924     0.828431   0.977903   \n",
       "8         0.953461        0.940535      0.613483     0.581495   0.802916   \n",
       "1         0.982998        0.943944      0.728041     0.577819   0.862412   \n",
       "0         0.802752        0.810897      0.618090     0.620098   0.789644   \n",
       "5         1.000000        0.995461      1.000000     0.403186   1.000000   \n",
       "4         1.000000        0.566745      1.000000     0.593137   1.000000   \n",
       "7         0.483005        0.455746      0.218213     0.211397   0.579269   \n",
       "\n",
       "   test_roc  train_time  \n",
       "2  0.967800  128.394758  \n",
       "6  0.967706    7.603836  \n",
       "3  0.907228  210.339529  \n",
       "8  0.786036   21.399049  \n",
       "1  0.784512    1.776531  \n",
       "0  0.791519    1.137220  \n",
       "5  0.701358  219.308367  \n",
       "4  0.738466    4.686482  \n",
       "7  0.573349    0.080993  "
      ]
     },
     "metadata": {},
     "output_type": "display_data"
    }
   ],
   "source": [
    "dict_models = batch_classify(X_train_scaled, y_train, X_test_scaled, y_test, no_classifiers = 9)\n",
    "display_dict_models(dict_models)"
   ]
  },
  {
   "cell_type": "code",
   "execution_count": 26,
   "metadata": {},
   "outputs": [],
   "source": [
    "## With no business information is available, model performance is the top priority in model selection.\n",
    "## Therefore, the top two models are selected for the this analysis. \n",
    "\n",
    "#Model 1 SVM\n",
    "# The Gaussian RBF kernel is very popular and makes a good default kernel especially in absence of expert knowledge \n",
    "# about data and domain because it kind of subsumes polynomial and linear kernel as well. Linear Kernels and Polynomial Kernels\n",
    "# are a special case of Gaussian RBF kernel. Gaussian RBF kernels are non-parametric model which essentially means that the \n",
    "# complexity of the model is potentially infinite because the number of analytic functions are infinite.\n",
    "\n",
    "from sklearn.svm import SVC\n",
    "svclassifier = SVC(probability=True)\n",
    "svclassifier.fit(X_train_scaled, y_train)\n",
    "y_svm_pred = svclassifier.predict(X_test_scaled)"
   ]
  },
  {
   "cell_type": "code",
   "execution_count": 27,
   "metadata": {},
   "outputs": [
    {
     "name": "stdout",
     "output_type": "stream",
     "text": [
      "[[6352   16]\n",
      " [ 101 1531]]\n",
      "              precision    recall  f1-score   support\n",
      "\n",
      "           0       0.98      1.00      0.99      6368\n",
      "           1       0.99      0.94      0.96      1632\n",
      "\n",
      "    accuracy                           0.99      8000\n",
      "   macro avg       0.99      0.97      0.98      8000\n",
      "weighted avg       0.99      0.99      0.99      8000\n",
      "\n"
     ]
    }
   ],
   "source": [
    "# evaluation metrics\n",
    "from sklearn.metrics import classification_report, confusion_matrix\n",
    "print(confusion_matrix(y_test,y_svm_pred))\n",
    "print(classification_report(y_test,y_svm_pred))\n"
   ]
  },
  {
   "cell_type": "code",
   "execution_count": 28,
   "metadata": {},
   "outputs": [
    {
     "data": {
      "image/png": "[encoded data removed]",
      "text/plain": [
       "<Figure size 432x288 with 1 Axes>"
      ]
     },
     "metadata": {
      "needs_background": "light"
     },
     "output_type": "display_data"
    }
   ],
   "source": [
    "# plot ROC AUC with SVM\n",
    "\n",
    "import matplotlib.pyplot as plt\n",
    "from sklearn import metrics\n",
    "%matplotlib inline\n",
    "\n",
    "y_svm_pred_proba = svclassifier.predict_proba(X_test_scaled)[::,1]\n",
    "fpr, tpr, _ = metrics.roc_curve(y_test,  y_svm_pred_proba)\n",
    "auc = metrics.roc_auc_score(y_test, y_svm_pred_proba)\n",
    "plt.plot(fpr,tpr,label=\"data 1, auc=\"+str(auc))\n",
    "plt.xlabel('False Positive Rate')\n",
    "plt.ylabel('True Positive Rate')\n",
    "plt.legend(loc=4)\n",
    "plt.show()"
   ]
  },
  {
   "cell_type": "code",
   "execution_count": 29,
   "metadata": {},
   "outputs": [],
   "source": [
    "#model 2 ANN\n",
    "from sklearn.neural_network import MLPClassifier\n",
    "mlp = MLPClassifier()\n",
    "mlp.fit(X_train_scaled, y_train)\n",
    "y_mlp_pred = mlp.predict(X_test_scaled)"
   ]
  },
  {
   "cell_type": "code",
   "execution_count": 30,
   "metadata": {},
   "outputs": [
    {
     "name": "stdout",
     "output_type": "stream",
     "text": [
      "[[6319   49]\n",
      " [  68 1564]]\n",
      "              precision    recall  f1-score   support\n",
      "\n",
      "           0       0.99      0.99      0.99      6368\n",
      "           1       0.97      0.96      0.96      1632\n",
      "\n",
      "    accuracy                           0.99      8000\n",
      "   macro avg       0.98      0.98      0.98      8000\n",
      "weighted avg       0.99      0.99      0.99      8000\n",
      "\n"
     ]
    }
   ],
   "source": [
    "# evaluation metrics\n",
    "from sklearn.metrics import classification_report, confusion_matrix\n",
    "print(confusion_matrix(y_test,y_mlp_pred))\n",
    "print(classification_report(y_test,y_mlp_pred))"
   ]
  },
  {
   "cell_type": "code",
   "execution_count": 31,
   "metadata": {},
   "outputs": [
    {
     "data": {
      "image/png": "[encoded data removed]",
      "text/plain": [
       "<Figure size 432x288 with 1 Axes>"
      ]
     },
     "metadata": {
      "needs_background": "light"
     },
     "output_type": "display_data"
    }
   ],
   "source": [
    "# plot ROC AUC with ANN\n",
    "\n",
    "import matplotlib.pyplot as plt\n",
    "from sklearn import metrics\n",
    "%matplotlib inline\n",
    "\n",
    "y_mlp_pred_proba = mlp.predict_proba(X_test_scaled)[::,1]\n",
    "fpr, tpr, _ = metrics.roc_curve(y_test, y_mlp_pred_proba)\n",
    "auc = metrics.roc_auc_score(y_test, y_mlp_pred_proba)\n",
    "plt.plot(fpr,tpr,label=\"data 1, auc=\"+str(auc))\n",
    "plt.xlabel('False Positive Rate')\n",
    "plt.ylabel('True Positive Rate')\n",
    "plt.legend(loc=4)\n",
    "plt.show()"
   ]
  },
  {
   "cell_type": "code",
   "execution_count": null,
   "metadata": {},
   "outputs": [],
   "source": []
  }
 ],
 "metadata": {
  "kernelspec": {
   "display_name": "Python 3",
   "language": "python",
   "name": "python3"
  },
  "language_info": {
   "codemirror_mode": {
    "name": "ipython",
    "version": 3
   },
   "file_extension": ".py",
   "mimetype": "text/x-python",
   "name": "python",
   "nbconvert_exporter": "python",
   "pygments_lexer": "ipython3",
   "version": "3.7.3"
  }
 },
 "nbformat": 4,
 "nbformat_minor": 2
}
